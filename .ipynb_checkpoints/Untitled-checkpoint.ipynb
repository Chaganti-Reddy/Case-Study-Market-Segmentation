{
 "cells": [
  {
   "cell_type": "markdown",
   "id": "82f5afe4-a282-46a3-b508-22ce7ad24111",
   "metadata": {},
   "source": [
    "# CASE STUDY (FAST FOOD)"
   ]
  },
  {
   "cell_type": "markdown",
   "id": "2b2be37a-9617-4eb4-ace5-3d85ee6b6cd0",
   "metadata": {},
   "source": [
    "# Market Segmentation with Clustering\n",
    "\n",
    "`It is important to define the customer profile. It allows customers to prepare campaigns and deliver them to the right customer. I tried to determine the correct customer profile by using clustering algorithms. I'm new to this. If you have a missing place, don't hesitate to comment. If you have a contribution please upvote!`"
   ]
  },
  {
   "cell_type": "code",
   "execution_count": null,
   "id": "3cd50ed9-5223-49e6-a175-4f058daeca71",
   "metadata": {},
   "outputs": [],
   "source": []
  }
 ],
 "metadata": {
  "kernelspec": {
   "display_name": "Python 3 (ipykernel)",
   "language": "python",
   "name": "python3"
  },
  "language_info": {
   "codemirror_mode": {
    "name": "ipython",
    "version": 3
   },
   "file_extension": ".py",
   "mimetype": "text/x-python",
   "name": "python",
   "nbconvert_exporter": "python",
   "pygments_lexer": "ipython3",
   "version": "3.10.4"
  }
 },
 "nbformat": 4,
 "nbformat_minor": 5
}
